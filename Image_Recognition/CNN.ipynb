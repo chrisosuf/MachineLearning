{
 "cells": [
  {
   "cell_type": "code",
   "execution_count": null,
   "metadata": {
    "collapsed": false
   },
   "outputs": [],
   "source": [
    "# Load libraries\n",
    "import os,cv2\n",
    "import numpy as np\n",
    "import matplotlib.pyplot as plt\n",
    "\n",
    "from sklearn.utils import shuffle\n",
    "from sklearn.cross_validation import train_test_split\n",
    "\n",
    "from keras import backend as K\n",
    "K.set_image_dim_ordering('tf') # order channels by tensorflow\n",
    "\n",
    "from keras.utils import np_utils\n",
    "from keras.models import Sequential\n",
    "from keras.layers.core import Dense, Dropout, Activation, Flatten\n",
    "from keras.layers.convolutional import Convolution2D, MaxPooling2D\n",
    "from keras.optimizers import SGD,RMSprop,adam\n"
   ]
  },
  {
   "cell_type": "code",
   "execution_count": null,
   "metadata": {
    "collapsed": false
   },
   "outputs": [],
   "source": [
    "# cd Desktop\n",
    "PATH = os.getcwd()\n",
    "# Define data path\n",
    "data_path = PATH + '/CNN'\n",
    "data_dir_list = os.listdir(data_path) #Folders\n",
    "\n",
    "# Define image size to feed into network\n",
    "img_rows=128\n",
    "img_cols=128\n",
    "# Want grayscale image so only one channel (3 channels is rgb)\n",
    "num_channel=1\n",
    "num_epoch=20\n",
    "\n",
    "# Define the number of classes (goats, elephants, dogs, cats)\n",
    "num_classes = 4\n",
    "\n",
    "img_data_list=[]\n",
    "\n",
    "# Go through folders of pictures\n",
    "for dataset in data_dir_list:\n",
    "    # filter out hidden files\n",
    "    if not dataset.startswith('.'):    \n",
    "        img_list = os.listdir(data_path + '/' + dataset)\n",
    "        print('Loaded the images of dataset-'+'{}\\n'.format(dataset))\n",
    "        # in each image in each folder: read it, convert to grayscale, resize to 128x128, and append it to list\n",
    "        for img in img_list:\n",
    "            # filter out hidden files\n",
    "            if not img.startswith('.'):\n",
    "                input_img = cv2.imread(data_path + '/' + dataset + '/' + img) # read\n",
    "                input_img = cv2.cvtColor(input_img, cv2.COLOR_BGR2GRAY) # convert to grayscale\n",
    "                input_img_resize = cv2.resize(input_img,(128, 128)) # resize\n",
    "                img_data_list.append(input_img_resize) # append to list\n",
    "\n",
    "\n"
   ]
  },
  {
   "cell_type": "code",
   "execution_count": null,
   "metadata": {
    "collapsed": false
   },
   "outputs": [],
   "source": [
    "img_data = np.array(img_data_list) # convert into an array\n",
    "img_data = img_data.astype('float32') # convert into a float\n",
    "img_data /= 255 # Divide by 255 - normalization\n",
    "print (img_data.shape)\n",
    "\n",
    "\n",
    "# Reshape backend to feed into CNN. The number given to the axis value is where the\n",
    "# number of channels stands in the order of samples, channels, rows, and columns (1 is first, \n",
    "# 4 is last). Different order for using tensorflow or theano.\n",
    "if num_channel==1:\n",
    "    if K.image_dim_ordering()=='th':\n",
    "        img_data= np.expand_dims(img_data, axis=1) \n",
    "        print (img_data.shape)\n",
    "    else:\n",
    "        img_data= np.expand_dims(img_data, axis=4) \n",
    "        print (img_data.shape)\n",
    "\n",
    "else:\n",
    "    if K.image_dim_ordering()=='th':\n",
    "        img_data=np.rollaxis(img_data,3,1)\n",
    "        print (img_data.shape)\n",
    "        "
   ]
  },
  {
   "cell_type": "code",
   "execution_count": null,
   "metadata": {
    "collapsed": false
   },
   "outputs": [],
   "source": [
    "# Assigning Labels\n",
    "\n",
    "# Define the number of classes (4 for for our 4 classes of images)\n",
    "num_classes = 4\n",
    "\n",
    "num_of_samples = img_data.shape[0]\n",
    "labels = np.ones((num_of_samples,),dtype='int64')\n",
    "\n",
    "labels[0:102]=0\n",
    "labels[102:206]=1\n",
    "labels[204:306]=2\n",
    "labels[306:]=3\n",
    "\n",
    "names = ['cats','dogs','elephants','goats']\n",
    "# convert class labels to on-hot encoding\n",
    "Y = np_utils.to_categorical(labels, num_classes)\n",
    "\n",
    "# Shuffle the dataset, random state gives a fixed value of shuffling\n",
    "x,y = shuffle(img_data,Y, random_state=2)\n",
    "# Split the dataset into x and y train and test\n",
    "X_train, X_test, y_train, y_test = train_test_split(x, y, test_size=0.2, random_state=2)\n"
   ]
  },
  {
   "cell_type": "code",
   "execution_count": null,
   "metadata": {
    "collapsed": false
   },
   "outputs": [],
   "source": [
    "# Building the convolutional neural network\n",
    "\n",
    "input_shape=img_data[0].shape\n",
    "\n",
    "model = Sequential()\n",
    "\n",
    "# for first convolutional layer we use 32 filters, 3x3 rows by columns\n",
    "# border_mode == 'same' is to preserve the size of the image even after convolution\n",
    "model.add(Convolution2D(32, 3, 3, border_mode='same', input_shape=input_shape))\n",
    "model.add(Activation('relu'))\n",
    "# Another layer\n",
    "model.add(Convolution2D(32, 3, 3))\n",
    "model.add(Activation('relu'))\n",
    "# max pooling of size 2x2\n",
    "model.add(MaxPooling2D(pool_size=(2, 2)))\n",
    "# Dropout to avoid overfitting\n",
    "model.add(Dropout(0.5))\n",
    "\n",
    "model.add(Convolution2D(64, 3, 3))\n",
    "model.add(Activation('relu'))\n",
    "# model.add(Convolution2D(64, 3, 3))\n",
    "# model.add(Activation('relu'))\n",
    "model.add(MaxPooling2D(pool_size=(2, 2)))\n",
    "model.add(Dropout(0.5))\n",
    "\n",
    "# Flatten into an open one dimensional vector which becomes our feature vector to feed into the fully connected layer\n",
    "model.add(Flatten())\n",
    "model.add(Dense(64))\n",
    "model.add(Activation('relu'))\n",
    "model.add(Dropout(0.5))\n",
    "# number of classes is 4\n",
    "model.add(Dense(num_classes))\n",
    "# softmax regression\n",
    "model.add(Activation('softmax'))\n",
    "\n",
    "\n",
    "# compile by giving a loss function:\n",
    "# sgd = SGD(lr=0.01, decay=1e-6, momentum=0.9, nesterov=True)\n",
    "# model.compile(loss='categorical_crossentropy', optimizer=sgd,metrics=[\"accuracy\"])\n",
    "model.compile(loss='categorical_crossentropy', optimizer='rmsprop',metrics=[\"accuracy\"])\n",
    "\n",
    "# Viewing model_configuration\n",
    "\n",
    "model.summary()\n",
    "model.get_config()\n",
    "model.layers[0].get_config()\n",
    "model.layers[0].input_shape\n",
    "model.layers[0].output_shape\n",
    "model.layers[0].get_weights()\n",
    "np.shape(model.layers[0].get_weights()[0])\n",
    "model.layers[0].trainable"
   ]
  },
  {
   "cell_type": "code",
   "execution_count": null,
   "metadata": {
    "collapsed": false
   },
   "outputs": [],
   "source": [
    "# Train the model\n",
    "hist = model.fit(X_train, y_train, batch_size=16, nb_epoch=num_epoch, verbose=1, validation_data=(X_test, y_test))"
   ]
  },
  {
   "cell_type": "code",
   "execution_count": null,
   "metadata": {
    "collapsed": false
   },
   "outputs": [],
   "source": [
    "# evaluate the accuracy of the model\n",
    "\n",
    "score = model.evaluate(X_test, y_test, verbose=0)\n",
    "print('Test Loss:', score[0])\n",
    "print('Test accuracy:', score[1])\n",
    "\n",
    "test_image = X_test[0:1]\n",
    "print (test_image.shape)\n",
    "\n",
    "print(model.predict(test_image))\n",
    "print(model.predict_classes(test_image))\n",
    "print(y_test[0:1])\n"
   ]
  },
  {
   "cell_type": "code",
   "execution_count": null,
   "metadata": {
    "collapsed": false
   },
   "outputs": [],
   "source": [
    "# Printing the confusion matrix\n",
    "from sklearn.metrics import classification_report,confusion_matrix\n",
    "import itertools\n",
    "\n",
    "Y_pred = model.predict(X_test)\n",
    "print(Y_pred)\n",
    "y_pred = np.argmax(Y_pred, axis=1)\n",
    "print(y_pred)\n",
    "# y_pred = model.predict_classes(X_test)\n",
    "# print(y_pred)\n",
    "target_names = ['class 0(cats)', 'class 1(Dogs)', 'class 2(elephants)','class 3(goats)']\n",
    "\n",
    "print(classification_report(np.argmax(y_test,axis=1), y_pred,target_names=target_names))\n",
    "\n",
    "print(confusion_matrix(np.argmax(y_test,axis=1), y_pred))\n"
   ]
  },
  {
   "cell_type": "code",
   "execution_count": null,
   "metadata": {
    "collapsed": true
   },
   "outputs": [],
   "source": []
  }
 ],
 "metadata": {
  "anaconda-cloud": {},
  "kernelspec": {
   "display_name": "Python [default]",
   "language": "python",
   "name": "python3"
  },
  "language_info": {
   "codemirror_mode": {
    "name": "ipython",
    "version": 3
   },
   "file_extension": ".py",
   "mimetype": "text/x-python",
   "name": "python",
   "nbconvert_exporter": "python",
   "pygments_lexer": "ipython3",
   "version": "3.5.2"
  }
 },
 "nbformat": 4,
 "nbformat_minor": 1
}
