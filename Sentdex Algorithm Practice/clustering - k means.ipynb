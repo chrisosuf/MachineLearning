{
 "cells": [
  {
   "cell_type": "code",
   "execution_count": 1,
   "metadata": {
    "collapsed": true
   },
   "outputs": [],
   "source": [
    "# k is the number of clusters u want, k means\n",
    "# unsupervised learning now, we told machine what classes of features et are\n",
    "# flat clusteirng and hierarchal clustering\n",
    "# flat clustering, u tell machine to find how many groups u want\n",
    "# hierarchal, machine decides how many there ought to be\n",
    "\n",
    "# centroids are centers of clusters, can pick the first k data points or random or whatever\n",
    "# centroids are centers of the clusters, randomly chosen at first\n",
    "# calculate distance of each feature set to the centroids,\n",
    "#and classify each of them as whichever centroid they are closer to\n",
    "#like nearby dots will be paired with each centorid\n",
    "# take the mean of the feature sets to find center of each cluster\n",
    "# Algo is u keep taking new centroids and doing this until centorids are dont moving\n",
    "# ur optimized if centorid doesnt move much anymore, max iteration variable too\n",
    "\n",
    "# one downside is groups tend to be classified in similarly sized groups\n",
    "# due to adherence to euclidean distance, kernels can help a ltitle bit but still problem\n",
    "# scaling problem too, but once trainded, classifying is easy\n"
   ]
  },
  {
   "cell_type": "code",
   "execution_count": 75,
   "metadata": {
    "collapsed": false
   },
   "outputs": [
    {
     "data": {
      "image/png": "[encoded data removed]",
      "text/plain": [
       "<matplotlib.figure.Figure at 0x1171210b8>"
      ]
     },
     "metadata": {},
     "output_type": "display_data"
    }
   ],
   "source": [
    "import matplotlib.pyplot as plt\n",
    "from matplotlib import style\n",
    "style.use('ggplot')\n",
    "import numpy as np\n",
    "from sklearn.cluster import KMeans\n",
    "\n",
    "X = np.array([[1, 2],\n",
    "              [1.5, 1.8],\n",
    "              [5, 8],\n",
    "              [8, 8],\n",
    "              [1, 0.6],\n",
    "              [9, 11]])\n",
    "\n",
    "#plt.scatter(X[:,0],X[:,1],s=150, linewidths=5)\n",
    "#plt.show()\n",
    "\n",
    "clf = KMeans(n_clusters=5)\n",
    "clf.fit(X)\n",
    "\n",
    "centroids = clf.cluster_centers_ #(x)\n",
    "labels = clf.labels_ # array of labels of features (y)\n",
    "\n",
    "colors = 10*['g.','r.','c.','b.','k.']\n",
    "for i in range(len(X)):\n",
    "    plt.plot(X[i][0], X[i][1],colors[labels[i]], markersize=10)\n",
    "plt.scatter(centroids[:,0], centroids[:,1], marker='x', s=150, linewidths = 5)\n",
    "plt.show()"
   ]
  },
  {
   "cell_type": "code",
   "execution_count": 81,
   "metadata": {
    "collapsed": false
   },
   "outputs": [
    {
     "name": "stderr",
     "output_type": "stream",
     "text": [
      "/Users/chrisosufsen/anaconda/lib/python3.5/site-packages/ipykernel/__main__.py:8: FutureWarning: convert_objects is deprecated.  Use the data-type specific converters pd.to_datetime, pd.to_timedelta and pd.to_numeric.\n"
     ]
    }
   ],
   "source": [
    "import pandas as pd\n",
    "from sklearn import preprocessing\n",
    "#already imported kmeans n stuff\n",
    "\n",
    "# still doing own feature engineering\n",
    "df = pd.read_excel('/Users/chrisosufsen/Downloads/titanic.xls')\n",
    "df.drop(['body','name','boat','sex'],1,inplace=True) # intersting thought, filter out 'important' names, like royal last names\n",
    "df.convert_objects(convert_numeric=True) # convert data frame to numeric, easier to work with\n",
    "df.fillna(0, inplace=True)\n",
    "\n",
    "#some data is very important but not numerical\n",
    "#what u wanna do is take list of column, set of column (just the unique values)\n",
    "# so the st is ['male', 'female'] for this, and their value is 0 or 1\n",
    "# if theres a lot of values tho, might have outliers\n",
    "# lot of missing data too\n",
    "\n",
    "# handle nonnumeric\n",
    "def handle_non_numeric_data(df):\n",
    "    columns = df.columns.values\n",
    "    \n",
    "    for column in columns:\n",
    "        text_digit_vals = {} # like 'female':1\n",
    "        def convert_to_int(val):\n",
    "            return text_digit_vals[val]\n",
    "        \n",
    "        # if not numeric \n",
    "        if df[column].dtype != np.int64 and df[column].dtype != np.float64:\n",
    "            column_contents = df[column].values.tolist()\n",
    "            unique_elements = set(column_contents) #gets us unique elements\n",
    "            x = 0\n",
    "            # populate the dictionary with unique elements\n",
    "            for unique in unique_elements:\n",
    "                if unique not in text_digit_vals:\n",
    "                    text_digit_vals[unique] = x\n",
    "                    x+=1\n",
    "            #whatever that column is, convert those values to our ints that we specified in the dictionary\n",
    "            df[column] = list(map(convert_to_int, df[column]))\n",
    "            \n",
    "    return df\n",
    "df = handle_non_numeric_data(df)\n",
    "#df.head()"
   ]
  },
  {
   "cell_type": "code",
   "execution_count": 82,
   "metadata": {
    "collapsed": false
   },
   "outputs": [
    {
     "name": "stdout",
     "output_type": "stream",
     "text": [
      "0.32238349885408707\n"
     ]
    }
   ],
   "source": [
    "# now to run the algorithm\n",
    "X2 = np.array(df.drop(['survived'], 1))\n",
    "X2 = preprocessing.scale(X2) # transform data to cleaner set...\n",
    "y2 = np.array(df['survived'])\n",
    "\n",
    "clf2 = KMeans(n_clusters = 2)\n",
    "clf2.fit(X2)\n",
    "\n",
    "correct = 0\n",
    "for i in range(len(X2)):\n",
    "    predict_me = np.array(X2[i]) # x values to predict\n",
    "    predict_me = predict_me.reshape(-1,len(predict_me))\n",
    "    prediction = clf2.predict(predict_me) #predict the values\n",
    "    if prediction[0]==y2[i]: # id they're the same\n",
    "        correct +=1\n",
    "print(correct/len(X2))"
   ]
  },
  {
   "cell_type": "code",
   "execution_count": null,
   "metadata": {
    "collapsed": true
   },
   "outputs": [],
   "source": []
  },
  {
   "cell_type": "code",
   "execution_count": null,
   "metadata": {
    "collapsed": true
   },
   "outputs": [],
   "source": []
  }
 ],
 "metadata": {
  "anaconda-cloud": {},
  "kernelspec": {
   "display_name": "Python [default]",
   "language": "python",
   "name": "python3"
  },
  "language_info": {
   "codemirror_mode": {
    "name": "ipython",
    "version": 3
   },
   "file_extension": ".py",
   "mimetype": "text/x-python",
   "name": "python",
   "nbconvert_exporter": "python",
   "pygments_lexer": "ipython3",
   "version": "3.5.2"
  }
 },
 "nbformat": 4,
 "nbformat_minor": 1
}
