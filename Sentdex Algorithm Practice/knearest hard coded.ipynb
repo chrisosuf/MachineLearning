{
 "cells": [
  {
   "cell_type": "code",
   "execution_count": 10,
   "metadata": {
    "collapsed": false
   },
   "outputs": [
    {
     "name": "stdout",
     "output_type": "stream",
     "text": [
      "2.23606797749979\n"
     ]
    }
   ],
   "source": [
    "#euclidean distance is what this algo is all about\n",
    "#sum to n, n is number of dimension in data (sigma of below)\n",
    "# i starts off at 1, its ur actual dimension ur on\n",
    "#(qi - pi)^2 q is one point, p is different point\n",
    "# and take the square root of all of it, outside the sigma\n",
    "#q and p are coordinates, x and y pairs, 2 dimensions\n",
    "\n",
    "# euclidean distance is sqrt((x1-x2)^2+(y1-y2)^2) for 2 points\n",
    "\n",
    "from math import sqrt\n",
    "import numpy as np\n",
    "import matplotlib.pyplot as plt\n",
    "from matplotlib import style\n",
    "from collections import Counter\n",
    "import warnings # tell user when using a dumb number for K\n",
    "style.use('ggplot')\n",
    "\n",
    "plot1 = [1,3]\n",
    "plot2 = [2,5]\n",
    "\n",
    "# numpy is faster and can do more dimensions than this but this looks less complicated\n",
    "eculidean_d = sqrt((plot1[0]-plot2[0])**2+ (plot1[1]-plot2[1])**2)\n",
    "print(eculidean_d)\n",
    "\n"
   ]
  },
  {
   "cell_type": "code",
   "execution_count": 42,
   "metadata": {
    "collapsed": false
   },
   "outputs": [
    {
     "name": "stdout",
     "output_type": "stream",
     "text": [
      "r\n"
     ]
    },
    {
     "data": {
      "image/png": "[encoded data removed]",
      "text/plain": [
       "<matplotlib.figure.Figure at 0x106a75630>"
      ]
     },
     "metadata": {},
     "output_type": "display_data"
    }
   ],
   "source": [
    "dataset = {'k':[[1,2],[2,3],[3,1]], 'r':[[6,5],[7,7],[8,6]]}\n",
    "# features are 2 dimensional, classes k and r\n",
    "# r and k are the labels, what we determine the data point belongs to based on the fatures\n",
    "# each list is feature list for that individual\n",
    "\n",
    "new_features = [5,7]\n",
    "\n",
    "\n",
    "\n",
    "\n",
    "\n",
    "# length of dictionary is amount of keys\n",
    "def k_nearest(data, predict, k=3):\n",
    "    if len(data) >= k:\n",
    "        warnings.warn('K is set to a value less than total voting groups')\n",
    "    distances = []\n",
    "    for group in data: # each class\n",
    "        for features in data[group]: #each point in that class\n",
    "            #euclidean distance, of every point and our prediction point \n",
    "            ed = np.linalg.norm(np.array(features)-np.array(predict))\n",
    "            distances.append([ed, group]) # add every point and their distance to that list \n",
    "    \n",
    "    # sort distances, take first k values\n",
    "    votes = [i[1] for i in sorted(distances)[:k]]\n",
    "    # return most common group, and how many there were (effect of [0][0], indexing most_common(1))\n",
    "    vote_result = Counter(votes).most_common(1)[0][0] # (1) - only care about the 1 most common group\n",
    "    # confidence = Counter(votes).most_common(1)[0][1]/k # [1] is how many, more confident if closer to k \n",
    "    return vote_result\n",
    "\n",
    "result = k_nearest(dataset, new_features, k =3)\n",
    "print(result)\n",
    "\n",
    "# problem with k nearest neighbors is u have to check against every single datapoint\n",
    "# using inside or outside radius is a fix to this but this is the problem with the algo\n",
    "\n",
    "# graphing\n",
    "for i in dataset:\n",
    "    for j in dataset[i]:\n",
    "        plt.scatter(j[0],j[1], s=100, color = i) #plt.scatter takes x and y as parameters\n",
    "# ^this loop is the same as saying [[plt.scatter(j[0],j[1], s=100, color = i) for j in dataset[i]] for i in dataset]\n",
    "# work way from most inner statements out\n",
    "\n",
    "plt.scatter(new_features[0], new_features[1], color = result) # clas of result is 'r', for red in matplotlib\n",
    "plt.show()"
   ]
  },
  {
   "cell_type": "code",
   "execution_count": 46,
   "metadata": {
    "collapsed": false
   },
   "outputs": [
    {
     "name": "stdout",
     "output_type": "stream",
     "text": [
      "accuracy 0.9136690647482014\n"
     ]
    }
   ],
   "source": [
    "#testing using the breast cancer dataset \n",
    "import pandas as pd \n",
    "import random # so we can shuffle this ourselves, no library\n",
    "\n",
    "df = pd.read_csv('/Users/chrisosufsen/Desktop/datasets/Breast-cancer-wisconsin-data.txt') \n",
    "df.replace('?', -99999, inplace = True), # k nearest bad at handling outliers, na's here are ?s \n",
    "df.drop(['id'],1,inplace = True) # id has nothing to do with classification \n",
    "df.head()\n",
    "\n",
    "#make sure everything is a float (or int, usually float tho)\n",
    "#and turn each row into a list, this is a list of lists\n",
    "full_data = df.astype(float).values.tolist()\n",
    "\n",
    "random.shuffle(full_data)\n",
    "\n",
    "#our version of train test split \n",
    "test_size = 0.2 \n",
    "train_set = {2:[], 4:[]} \n",
    "test_set = {2:[], 4:[]} \n",
    "train_data = full_data[:-int(test_size*len(full_data))] \n",
    "test_data = full_data[-int(test_size*len(full_data)):] # last 20% of data\n",
    "\n",
    "#populate data \n",
    "for i in train_data: \n",
    "    train_set[i[-1]].append(i[:-1])\n",
    "for i in test_data: \n",
    "    test_set[i[-1]].append(i[:-1])\n",
    "\n",
    "    \n",
    "correct = 0 \n",
    "total = 0\n",
    "\n",
    "for group in test_set: #each of these, 2 and 4 \n",
    "    for data in test_set[group]: \n",
    "        vote = k_nearest(train_set, data, k=75) \n",
    "        if group == vote: \n",
    "            correct += 1 \n",
    "        total += 1 \n",
    "print(\"accuracy\", correct/total)"
   ]
  },
  {
   "cell_type": "code",
   "execution_count": null,
   "metadata": {
    "collapsed": true
   },
   "outputs": [],
   "source": [
    "# k nearest can be threaded: dont have to test each prediction point\n",
    "# can test each on their own, canheavily thread on a bulk of predictions\n",
    "# scikit learn is faster, equally as accurate as our algorithm\n",
    "# ^ can use radius concept\n",
    "# knn can run on nonlinear data"
   ]
  }
 ],
 "metadata": {
  "anaconda-cloud": {},
  "kernelspec": {
   "display_name": "Python [default]",
   "language": "python",
   "name": "python3"
  },
  "language_info": {
   "codemirror_mode": {
    "name": "ipython",
    "version": 3
   },
   "file_extension": ".py",
   "mimetype": "text/x-python",
   "name": "python",
   "nbconvert_exporter": "python",
   "pygments_lexer": "ipython3",
   "version": "3.5.2"
  }
 },
 "nbformat": 4,
 "nbformat_minor": 1
}
