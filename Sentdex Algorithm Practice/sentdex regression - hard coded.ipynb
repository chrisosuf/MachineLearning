{
 "cells": [
  {
   "cell_type": "code",
   "execution_count": 32,
   "metadata": {
    "collapsed": false
   },
   "outputs": [
    {
     "data": {
      "image/png": "[encoded data removed]",
      "text/plain": [
       "<matplotlib.figure.Figure at 0x10485a048>"
      ]
     },
     "metadata": {},
     "output_type": "display_data"
    }
   ],
   "source": [
    "from statistics import mean\n",
    "import numpy as np # to use arrays\n",
    "import matplotlib.pyplot as plt\n",
    "from matplotlib import style\n",
    "import random\n",
    "\n",
    "style.use('fivethirtyeight')\n",
    "\n",
    "xs = np.array([1,2,3,4,5,6], dtype = np.float64) #linear regression uses float 64\n",
    "ys = np.array([3,6,4,2,5,7],dtype = np.float64) #dtype not necessary right now mbut may be useful if coiing back to linear regression\n",
    "\n",
    "#plt.plot(xs,ys)\n",
    "#plt.show()\n",
    "\n",
    "# 2 algos so far, best fit and r squared\n",
    "# test to make sure things are working\n",
    "# create our own dataset to test things on\n",
    "# change these values to try things, step and corr\n",
    "def create_dataset(how_much_data, variance, step=2, correlation = False):\n",
    "    val = 1 #first y value\n",
    "    ys=[]\n",
    "    for i in range(how_much_data):\n",
    "        y = val + random.randrange(-variance, variance)\n",
    "        ys.append(y)\n",
    "        if correlation and correlation =='pos':\n",
    "            val += step\n",
    "        elif correlation and correlation =='neg':\n",
    "            val -= step\n",
    "            \n",
    "    #xs are just a for loop\n",
    "    xs = [i for i in range(len(ys))]\n",
    "    return (np.array(xs, dtype=np.float64), np.array(ys, dtype=np.float64))\n",
    "\n",
    "# dataset created and can change around and test\n",
    "#correlation is either false, or 'pos' or 'neg'\n",
    "xs, ys = create_dataset(40, 20, 2, correlation = 'neg')\n",
    "\n",
    "\n",
    "def best_fit_slope_and_intercept(xs,ys):\n",
    "    # formulas for slope and y intercept\n",
    "    m = ((mean(xs)*mean(ys) - mean(xs*ys))\n",
    "         /(mean(xs)**2 - (mean(xs**2))))\n",
    "    b = mean(ys)-(m*mean(xs))\n",
    "    return m, b\n",
    "\n",
    "m, b = best_fit_slope_and_intercept(xs,ys)\n",
    "\n",
    "#best fit line, create a list that calculates y for each x\n",
    "regression_line = [(m*x)+b for x in xs]\n",
    "\n",
    "plt.scatter(xs, ys)\n",
    "plt.plot(xs, regression_line)\n",
    "plt.show()\n",
    "\n",
    "#whole point is now uve created a model to the data\n",
    "#using the model we can create a prediction\n",
    "\n",
    "#predict y where x = 8\n",
    "predict_x = 8\n",
    "predict_y = (m*predict_x) + b\n",
    "\n",
    "#showing our prediction\n",
    "#plt.scatter(xs, ys)\n",
    "#plt.scatter(predict_x, predict_y)\n",
    "#plt.plot(xs, regression_line)\n",
    "#plt.show()\n",
    "\n",
    "#can find a best fit line to any dataset, \n",
    "#but the question is how good of a fit is this line, accuracy/confidence\n"
   ]
  },
  {
   "cell_type": "code",
   "execution_count": 33,
   "metadata": {
    "collapsed": false
   },
   "outputs": [
    {
     "name": "stdout",
     "output_type": "stream",
     "text": [
      "0.809191818591\n"
     ]
    }
   ],
   "source": [
    "#determining acuracy of line\n",
    "# squared error, distance between y's and best fit line\n",
    "# square it so we deal with positive values and so outliers are punished more\n",
    "# only wanna do linear regression on linear data, dont want outliers. u can definitely punish even harder for them\n",
    "\n",
    "#r^2 is the coefficient of determination, what u calculate\n",
    "# it equals 1 - (squared error of y^ (y hat (best fit/regression line))/ SE of mean(ys (dataset ys)))\n",
    "\n",
    "#if r^s is .8, then se(y^)/se(mean(ys)) is .2, error is small\n",
    "# a good value\n",
    "\n",
    "def squared_error(ys_og, ys_line):\n",
    "    return sum((ys_line - ys_og) **2)\n",
    "\n",
    "def coefficient_of_determination(ys_og, ys_line):\n",
    "    y_mean_line = [mean(ys_og) for y in ys_og] #array of values, each value is mean of y for each y\n",
    "    squared_error_y_mean = squared_error(ys_og, y_mean_line)\n",
    "    \n",
    "    squared_error_regr = squared_error(ys_og, ys_line)\n",
    "    \n",
    "    return 1 - (squared_error_regr / squared_error_y_mean)\n",
    "\n",
    "r_squared = coefficient_of_determination(ys, regression_line)\n",
    "print(r_squared)\n",
    "\n",
    "# bad result, especcially for predicting exact values\n",
    "# but if just tryna predict a trend, it doesnt have to be as high"
   ]
  },
  {
   "cell_type": "code",
   "execution_count": 21,
   "metadata": {
    "collapsed": false
   },
   "outputs": [],
   "source": []
  },
  {
   "cell_type": "code",
   "execution_count": null,
   "metadata": {
    "collapsed": true
   },
   "outputs": [],
   "source": []
  }
 ],
 "metadata": {
  "anaconda-cloud": {},
  "kernelspec": {
   "display_name": "Python [default]",
   "language": "python",
   "name": "python3"
  },
  "language_info": {
   "codemirror_mode": {
    "name": "ipython",
    "version": 3
   },
   "file_extension": ".py",
   "mimetype": "text/x-python",
   "name": "python",
   "nbconvert_exporter": "python",
   "pygments_lexer": "ipython3",
   "version": "3.5.2"
  }
 },
 "nbformat": 4,
 "nbformat_minor": 1
}
