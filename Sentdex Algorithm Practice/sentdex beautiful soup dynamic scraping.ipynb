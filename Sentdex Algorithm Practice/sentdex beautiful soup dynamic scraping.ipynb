{
 "cells": [
  {
   "cell_type": "code",
   "execution_count": 1,
   "metadata": {
    "collapsed": false
   },
   "outputs": [
    {
     "ename": "ImportError",
     "evalue": "No module named 'PyQt4'",
     "output_type": "error",
     "traceback": [
      "\u001b[0;31m---------------------------------------------------------------------------\u001b[0m",
      "\u001b[0;31mImportError\u001b[0m                               Traceback (most recent call last)",
      "\u001b[0;32m<ipython-input-1-755725f6afde>\u001b[0m in \u001b[0;36m<module>\u001b[0;34m()\u001b[0m\n\u001b[1;32m      1\u001b[0m \u001b[0;32mimport\u001b[0m \u001b[0msys\u001b[0m \u001b[0;31m#lets us take system arguments\u001b[0m\u001b[0;34m\u001b[0m\u001b[0m\n\u001b[0;32m----> 2\u001b[0;31m \u001b[0;32mfrom\u001b[0m \u001b[0mPyQt4\u001b[0m\u001b[0;34m.\u001b[0m\u001b[0mQtGui\u001b[0m \u001b[0;32mimport\u001b[0m \u001b[0mQApplication\u001b[0m \u001b[0;31m#the peice for making applications\u001b[0m\u001b[0;34m\u001b[0m\u001b[0m\n\u001b[0m\u001b[1;32m      3\u001b[0m \u001b[0;32mfrom\u001b[0m \u001b[0mPyQt4\u001b[0m\u001b[0;34m.\u001b[0m\u001b[0mQtCore\u001b[0m \u001b[0;32mimport\u001b[0m \u001b[0mQUrl\u001b[0m \u001b[0;31m#used to read url\u001b[0m\u001b[0;34m\u001b[0m\u001b[0m\n\u001b[1;32m      4\u001b[0m \u001b[0;32mfrom\u001b[0m \u001b[0mPyQt4\u001b[0m\u001b[0;34m.\u001b[0m\u001b[0mQtWebKit\u001b[0m \u001b[0;32mimport\u001b[0m \u001b[0mQWebPage\u001b[0m \u001b[0;31m#let us load the page and act like a browswe/client and run that javascript\u001b[0m\u001b[0;34m\u001b[0m\u001b[0m\n\u001b[1;32m      5\u001b[0m \u001b[0;32mimport\u001b[0m \u001b[0mbs4\u001b[0m \u001b[0;32mas\u001b[0m \u001b[0mbs\u001b[0m\u001b[0;34m\u001b[0m\u001b[0m\n",
      "\u001b[0;31mImportError\u001b[0m: No module named 'PyQt4'"
     ]
    }
   ],
   "source": [
    "#learn selenium\n",
    "\n",
    "import sys #lets us take system arguments\n",
    "from PyQt4.QtGui import QApplication #the peice for making applications\n",
    "from PyQt4.QtCore import QUrl #used to read url\n",
    "from PyQt4.QtWebKit import QWebPage #let us load the page and act like a browswe/client and run that javascript\n",
    "import bs4 as bs\n",
    "import urllib.request\n",
    "#scrape dynamically updated information from a webpage\n",
    "#problem is sometimes u dont get the data ur looking for\n",
    "#because u are not a client, ur a comp program\n",
    "#perhaps some code thats noe even shown is what exists in the paragraph body tags\n",
    "\n",
    "\n",
    "# were gonna make a client class\n",
    "class Client(QWebPage): #inherited from qwebpage so we can use those methods\n",
    "    \n",
    "    \n",
    "    def __init__(self, url):\n",
    "        self.app = QApplication(sys.argv) #defining the application\n",
    "        QWebPage.__init__(self) #initialize QWeb page\n",
    "        self.loadFinished.connect(self.on_page_load) #when the load is finished, what do we want to do (we want to run on_page_load)\n",
    "        self.mainFrame().load(QUrl(url)) #load url\n",
    "        self.app.exec_()\n",
    "    \n",
    "    #just want ^^this^^ to run until page loads, app quit\n",
    "    def on_page_load(self):\n",
    "        self.app.quit()\n",
    "\n",
    "        \n",
    "url = 'https://pythonprogramming.net/parsememcparseface/'\n",
    "client_response = Client(url)\n",
    "source = client_response.mainFrame().toHTML() #get main frame and convert to html\n",
    "\n",
    "soup = bs.BeautifulSoup(source, 'lxml')\n",
    "\n",
    "\n",
    "js_test = soup.find('p', class_='jstest')\n",
    "print(js_test.text)\n",
    "\n"
   ]
  },
  {
   "cell_type": "code",
   "execution_count": null,
   "metadata": {
    "collapsed": true
   },
   "outputs": [],
   "source": []
  }
 ],
 "metadata": {
  "anaconda-cloud": {},
  "kernelspec": {
   "display_name": "Python [default]",
   "language": "python",
   "name": "python3"
  },
  "language_info": {
   "codemirror_mode": {
    "name": "ipython",
    "version": 3
   },
   "file_extension": ".py",
   "mimetype": "text/x-python",
   "name": "python",
   "nbconvert_exporter": "python",
   "pygments_lexer": "ipython3",
   "version": "3.5.2"
  }
 },
 "nbformat": 4,
 "nbformat_minor": 1
}
